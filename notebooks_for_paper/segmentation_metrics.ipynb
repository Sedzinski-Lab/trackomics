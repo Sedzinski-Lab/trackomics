{
 "cells": [
  {
   "cell_type": "code",
   "execution_count": 1,
   "id": "06a419bb",
   "metadata": {},
   "outputs": [],
   "source": [
    "import os\n",
    "import numpy as np\n",
    "import tifffile as tiff\n",
    "from tqdm import tqdm\n",
    "from scipy.sparse import lil_matrix\n",
    "from scipy.ndimage import center_of_mass"
   ]
  },
  {
   "cell_type": "code",
   "execution_count": 22,
   "id": "c7a1dcb8",
   "metadata": {},
   "outputs": [],
   "source": [
    "def compute_jaccard_index(gt, pred):\n",
    "    intersection = np.logical_and(gt > 0, pred > 0)\n",
    "    union = np.logical_or(gt > 0, pred > 0)\n",
    "    return np.sum(intersection) / np.sum(union)\n",
    "\n",
    "def compute_sparse_jaccard(gt, pred):\n",
    "    gt_labels = np.unique(gt)[1:]   # skip background (0)\n",
    "    pred_labels = np.unique(pred)[1:]\n",
    "\n",
    "    ious = lil_matrix((gt.max() + 1, pred.max() + 1), dtype=np.float32)\n",
    "\n",
    "    # Build overlap pairs\n",
    "    overlap_pairs = np.stack([gt.flatten(), pred.flatten()], axis=1)\n",
    "    overlap_pairs = overlap_pairs[(overlap_pairs[:, 0] > 0) & (overlap_pairs[:, 1] > 0)]\n",
    "\n",
    "    # Get unique overlapping label pairs\n",
    "    pairs = np.unique(overlap_pairs, axis=0)\n",
    "\n",
    "    for g, p in pairs:\n",
    "        g_mask = gt == g\n",
    "        p_mask = pred == p\n",
    "        intersection = np.logical_and(g_mask, p_mask).sum()\n",
    "        union = np.logical_or(g_mask, p_mask).sum()\n",
    "        if union > 0:\n",
    "            ious[g, p] = intersection / union\n",
    "\n",
    "    # Best match for each ground truth object\n",
    "    iou_dense = ious.toarray()\n",
    "    gt_present = np.unique(gt)[1:]  # skip background\n",
    "    best_matches = [iou_dense[g].max() for g in gt_present]\n",
    "\n",
    "    # Filter out zero-overlap matches\n",
    "    nonzero_matches = [v for v in best_matches if v > 0]\n",
    "\n",
    "    return np.mean(nonzero_matches) if nonzero_matches else 0.0\n",
    "\n",
    "def compute_centroid_jaccard(gt, pred):\n",
    "    gt_labels = np.unique(gt)\n",
    "    gt_labels = gt_labels[gt_labels != 0]  # Skip background\n",
    "    ious = []\n",
    "\n",
    "    for g in gt_labels:\n",
    "        # Get GT mask and compute centroid\n",
    "        g_mask = gt == g\n",
    "        centroid = center_of_mass(g_mask)\n",
    "        centroid_zyx = tuple(int(round(c)) for c in centroid)\n",
    "\n",
    "        # Bounds check\n",
    "        if not all(0 <= c < s for c, s in zip(centroid_zyx, gt.shape)):\n",
    "            continue\n",
    "\n",
    "        pred_label = pred[centroid_zyx]\n",
    "        if pred_label == 0:\n",
    "            continue  # No match at centroid\n",
    "\n",
    "        # Get predicted and GT masks\n",
    "        pred_mask = pred == pred_label\n",
    "\n",
    "        intersection = np.logical_and(g_mask, pred_mask).sum()\n",
    "        union = np.logical_or(g_mask, pred_mask).sum()\n",
    "        if union > 0:\n",
    "            ious.append(intersection / union)\n",
    "\n",
    "    return np.mean(ious) if ious else 0.0\n",
    "\n",
    "def compute_binary_f1_and_counts(gt, pred):\n",
    "    gt_binary = gt > 0\n",
    "    pred_binary = pred > 0\n",
    "\n",
    "    tp = np.logical_and(pred_binary, gt_binary).sum()\n",
    "    fp = np.logical_and(pred_binary, ~gt_binary).sum()\n",
    "    fn = np.logical_and(~pred_binary, gt_binary).sum()\n",
    "\n",
    "    f1 = 2 * tp / (2 * tp + fp + fn) if (2 * tp + fp + fn) > 0 else 0.0\n",
    "\n",
    "    n_gt_objects = len(np.unique(gt)) - (1 if 0 in gt else 0)\n",
    "    n_pred_objects = len(np.unique(pred)) - (1 if 0 in pred else 0)\n",
    "\n",
    "    return {\n",
    "        \"binary_f1\": f1,\n",
    "        \"gt_objects\": n_gt_objects,\n",
    "        \"pred_objects\": n_pred_objects\n",
    "    }\n",
    "\n",
    "def evaluate_all(gt_folder, pred_folder):\n",
    "    metrics = []\n",
    "\n",
    "    files = sorted(os.listdir(gt_folder))\n",
    "    for fname in tqdm(files):\n",
    "        gt_path = os.path.join(gt_folder, fname)\n",
    "        pred_path = os.path.join(pred_folder, fname)\n",
    "        if not os.path.exists(pred_path):\n",
    "            print(f\"Missing: {fname}\")\n",
    "            continue\n",
    "\n",
    "        gt = tiff.imread(gt_path)\n",
    "        pred = tiff.imread(pred_path)\n",
    "\n",
    "        jac = compute_jaccard_index(gt, pred)\n",
    "        sparse_jac = compute_sparse_jaccard(gt, pred)\n",
    "        centroid_jac = compute_centroid_jaccard(gt, pred)\n",
    "        binary_stats = compute_binary_f1_and_counts(gt, pred)\n",
    "\n",
    "\n",
    "        metrics.append({\n",
    "            \"filename\": fname,\n",
    "            \"jaccard\": jac,\n",
    "            \"sparse_jaccard\": sparse_jac,\n",
    "            \"centroid_jaccard\": centroid_jac,\n",
    "            **binary_stats\n",
    "        })\n",
    "\n",
    "    return metrics\n",
    "\n",
    "def summarize_metrics(metrics):\n",
    "    from statistics import mean\n",
    "\n",
    "    print(\"\\n--- Summary ---\")\n",
    "    print(f\"Images processed: {len(metrics)}\")\n",
    "    print(f\"Mean Jaccard Index: {mean([m['jaccard'] for m in metrics]):.4f}\")\n",
    "    print(f\"Mean Sparse Jaccard: {mean([m['sparse_jaccard'] for m in metrics]):.4f}\")\n",
    "    print(f\"Mean Centroid Jaccard: {mean([m['centroid_jaccard'] for m in metrics]):.4f}\")\n",
    "    print(f\"Mean Binary F1 Score: {mean([m['binary_f1'] for m in metrics]):.4f}\")\n",
    "\n",
    "    total_gt = sum(m['gt_objects'] for m in metrics)\n",
    "    total_pred = sum(m['pred_objects'] for m in metrics)\n",
    "    print(f\"Total GT objects: {total_gt}\")\n",
    "    print(f\"Total Predicted objects: {total_pred}\")\n"
   ]
  },
  {
   "cell_type": "code",
   "execution_count": 23,
   "id": "9d1df4e4",
   "metadata": {},
   "outputs": [
    {
     "name": "stderr",
     "output_type": "stream",
     "text": [
      "100%|██████████| 12/12 [00:44<00:00,  3.74s/it]"
     ]
    },
    {
     "name": "stdout",
     "output_type": "stream",
     "text": [
      "\n",
      "--- Summary ---\n",
      "Images processed: 12\n",
      "Mean Jaccard Index: 0.6986\n",
      "Mean Sparse Jaccard: 0.6437\n",
      "Mean Centroid Jaccard: 0.6477\n",
      "Mean Binary F1 Score: 0.8212\n",
      "Total GT objects: 886\n",
      "Total Predicted objects: 984\n"
     ]
    },
    {
     "name": "stderr",
     "output_type": "stream",
     "text": [
      "\n"
     ]
    }
   ],
   "source": [
    "gt_folder = 'D:/stardist3d_live/newtraining_mari/RealMask/'\n",
    "pred_folder = 'D:/stardist3d_live/newtraining_mari/RealMask_predicted/'\n",
    "\n",
    "results = evaluate_all(gt_folder, pred_folder)\n",
    "summarize_metrics(results)"
   ]
  },
  {
   "cell_type": "code",
   "execution_count": 24,
   "id": "10492236",
   "metadata": {},
   "outputs": [],
   "source": [
    "from cellpose import models\n",
    "from cellpose.io import imread\n",
    "from glob import glob\n",
    "import pandas as pd"
   ]
  },
  {
   "cell_type": "code",
   "execution_count": 59,
   "id": "c5d03771",
   "metadata": {},
   "outputs": [],
   "source": [
    "def evaluate_cellpose_custom_model(raw_folder, model_path, output_csv=\"results.csv\"):\n",
    "    raw_files = sorted(glob(os.path.join(raw_folder, \"*-8bit.tif\")))\n",
    "\n",
    "    # Map from filename stem to raw/gt file\n",
    "    file_pairs = []\n",
    "    for raw_path in raw_files:\n",
    "        base = os.path.basename(raw_path).replace(\"-8bit.tif\", \"\")\n",
    "        gt_path = os.path.join(raw_folder, base + \"-labels.tif\")\n",
    "        if os.path.exists(gt_path):\n",
    "            file_pairs.append((base, raw_path, gt_path))\n",
    "\n",
    "    model = models.CellposeModel(gpu=True, pretrained_model=model_path)\n",
    "    results = []\n",
    "\n",
    "    for stitch_threshold in np.arange(0.5, 0.7, 0.1):\n",
    "        print(f\"Evaluating stitch_threshold = {stitch_threshold:.1f}\")\n",
    "        for base, raw_path, gt_path in tqdm(file_pairs):\n",
    "            img = imread(raw_path)\n",
    "            #print(img.shape)\n",
    "            gt = imread(gt_path)\n",
    "\n",
    "            masks, _, _ = model.eval(\n",
    "                img,\n",
    "                channels = [0,0],\n",
    "                normalize=True,\n",
    "                #channel_axis = 1,\n",
    "                #z_axis = 0,\n",
    "                stitch_threshold=stitch_threshold,\n",
    "                flow_threshold=1,\n",
    "                cellprob_threshold=-1\n",
    "            )\n",
    "            #print(masks.shape)\n",
    "            mask = remove_border_labels(masks)\n",
    "\n",
    "            jaccard = compute_jaccard_index(gt, mask)\n",
    "            sparse_jac = compute_sparse_jaccard(gt, mask)\n",
    "            centroid_jac = compute_centroid_jaccard(gt, mask)\n",
    "            binary_stats = compute_binary_f1_and_counts(gt, mask)\n",
    "\n",
    "            results.append({\n",
    "                \"filename\": base,\n",
    "                \"stitch_threshold\": round(stitch_threshold, 1),\n",
    "                \"jaccard\": jaccard,\n",
    "                \"sparse_jaccard\": sparse_jac,\n",
    "                \"centroid_jaccard\": centroid_jac,\n",
    "                **binary_stats\n",
    "            })\n",
    "\n",
    "    df = pd.DataFrame(results)\n",
    "    #df.to_csv(output_csv, index=False)\n",
    "    #print(f\"\\nResults saved to {output_csv}\")\n",
    "    return df\n",
    "\n",
    "from skimage.measure import regionprops\n",
    "from skimage.segmentation import relabel_sequential\n",
    "\n",
    "def remove_border_labels(mask_3d):\n",
    "    \"\"\"Remove 3D labels that touch XY (not Z) image borders.\"\"\"\n",
    "    zdim, ydim, xdim = mask_3d.shape\n",
    "    border_labels = set()\n",
    "\n",
    "    for region in regionprops(mask_3d):\n",
    "        minz, miny, minx, maxz, maxy, maxx = *region.bbox,\n",
    "        if minx == 0 or maxx == xdim or miny == 0 or maxy == ydim:\n",
    "            border_labels.add(region.label)\n",
    "\n",
    "    cleaned = mask_3d.copy()\n",
    "    for lbl in border_labels:\n",
    "        cleaned[mask_3d == lbl] = 0\n",
    "\n",
    "    cleaned, _, _ = relabel_sequential(cleaned)\n",
    "    return cleaned"
   ]
  },
  {
   "cell_type": "code",
   "execution_count": 60,
   "id": "023d7f84",
   "metadata": {},
   "outputs": [
    {
     "name": "stdout",
     "output_type": "stream",
     "text": [
      "Evaluating stitch_threshold = 0.5\n"
     ]
    },
    {
     "name": "stderr",
     "output_type": "stream",
     "text": [
      "100%|██████████| 38/38 [00:00<00:00, 2530.42it/s]\n",
      "100%|██████████| 19/19 [00:00<00:00, 1707.85it/s]\n",
      "100%|██████████| 38/38 [00:00<00:00, 1152.04it/s]\n",
      "100%|██████████| 19/19 [00:00<00:00, 1393.38it/s]\n",
      "100%|██████████| 38/38 [00:00<00:00, 1239.69it/s]\n",
      "100%|██████████| 19/19 [00:00<00:00, 6525.16it/s]\n",
      "100%|██████████| 38/38 [00:00<00:00, 4583.15it/s]\n",
      "100%|██████████| 19/19 [00:00<00:00, 4446.84it/s]\n",
      "100%|██████████| 19/19 [00:00<00:00, 2357.47it/s]\n",
      "100%|██████████| 19/19 [00:00<00:00, 1680.23it/s]\n",
      "100%|██████████| 5/5 [00:51<00:00, 10.31s/it]\n"
     ]
    },
    {
     "name": "stdout",
     "output_type": "stream",
     "text": [
      "Evaluating stitch_threshold = 0.6\n"
     ]
    },
    {
     "name": "stderr",
     "output_type": "stream",
     "text": [
      "100%|██████████| 38/38 [00:00<00:00, 1261.96it/s]\n",
      "100%|██████████| 19/19 [00:00<00:00, 1728.03it/s]\n",
      "100%|██████████| 38/38 [00:00<00:00, 2473.36it/s]\n",
      "100%|██████████| 19/19 [00:00<00:00, 1462.31it/s]\n",
      "100%|██████████| 38/38 [00:00<00:00, 2533.52it/s]\n",
      "100%|██████████| 19/19 [00:00<00:00, 2112.61it/s]\n",
      "100%|██████████| 38/38 [00:00<00:00, 1479.61it/s]\n",
      "100%|██████████| 19/19 [00:00<00:00, 1132.40it/s]\n",
      "100%|██████████| 19/19 [00:00<00:00, 2111.26it/s]\n",
      "100%|██████████| 19/19 [00:00<00:00, 1461.59it/s]\n",
      "100%|██████████| 5/5 [00:50<00:00, 10.07s/it]\n"
     ]
    }
   ],
   "source": [
    "df_cellpose = evaluate_cellpose_custom_model(\n",
    "    raw_folder=\"D:/membrane segmentation gc/cellpose_testing\",\n",
    "    model_path=\"C:/Users/ghr283/.cellpose/models/mem_mneongreen2\", \n",
    "    output_csv=\"cellpose_threshold_sweep.csv\"\n",
    ")"
   ]
  },
  {
   "cell_type": "code",
   "execution_count": 55,
   "id": "cb27e5bc",
   "metadata": {},
   "outputs": [
    {
     "data": {
      "text/html": [
       "<div>\n",
       "<style scoped>\n",
       "    .dataframe tbody tr th:only-of-type {\n",
       "        vertical-align: middle;\n",
       "    }\n",
       "\n",
       "    .dataframe tbody tr th {\n",
       "        vertical-align: top;\n",
       "    }\n",
       "\n",
       "    .dataframe thead th {\n",
       "        text-align: right;\n",
       "    }\n",
       "</style>\n",
       "<table border=\"1\" class=\"dataframe\">\n",
       "  <thead>\n",
       "    <tr style=\"text-align: right;\">\n",
       "      <th></th>\n",
       "      <th>filename</th>\n",
       "      <th>stitch_threshold</th>\n",
       "      <th>jaccard</th>\n",
       "      <th>sparse_jaccard</th>\n",
       "      <th>centroid_jaccard</th>\n",
       "      <th>binary_f1</th>\n",
       "      <th>gt_objects</th>\n",
       "      <th>pred_objects</th>\n",
       "    </tr>\n",
       "  </thead>\n",
       "  <tbody>\n",
       "    <tr>\n",
       "      <th>0</th>\n",
       "      <td>Untitled-1-1</td>\n",
       "      <td>0.5</td>\n",
       "      <td>0.715796</td>\n",
       "      <td>0.699374</td>\n",
       "      <td>0.660728</td>\n",
       "      <td>0.834360</td>\n",
       "      <td>43</td>\n",
       "      <td>58</td>\n",
       "    </tr>\n",
       "    <tr>\n",
       "      <th>1</th>\n",
       "      <td>Untitled-1-2</td>\n",
       "      <td>0.5</td>\n",
       "      <td>0.580339</td>\n",
       "      <td>0.391968</td>\n",
       "      <td>0.467275</td>\n",
       "      <td>0.734448</td>\n",
       "      <td>78</td>\n",
       "      <td>79</td>\n",
       "    </tr>\n",
       "    <tr>\n",
       "      <th>2</th>\n",
       "      <td>Untitled-1-3</td>\n",
       "      <td>0.5</td>\n",
       "      <td>0.496363</td>\n",
       "      <td>0.273470</td>\n",
       "      <td>0.412819</td>\n",
       "      <td>0.663426</td>\n",
       "      <td>95</td>\n",
       "      <td>54</td>\n",
       "    </tr>\n",
       "    <tr>\n",
       "      <th>3</th>\n",
       "      <td>Untitled-1-4</td>\n",
       "      <td>0.5</td>\n",
       "      <td>0.310429</td>\n",
       "      <td>0.503283</td>\n",
       "      <td>0.604249</td>\n",
       "      <td>0.473782</td>\n",
       "      <td>20</td>\n",
       "      <td>56</td>\n",
       "    </tr>\n",
       "    <tr>\n",
       "      <th>4</th>\n",
       "      <td>Untitled-1-5</td>\n",
       "      <td>0.5</td>\n",
       "      <td>0.717595</td>\n",
       "      <td>0.551870</td>\n",
       "      <td>0.591606</td>\n",
       "      <td>0.835581</td>\n",
       "      <td>103</td>\n",
       "      <td>96</td>\n",
       "    </tr>\n",
       "    <tr>\n",
       "      <th>5</th>\n",
       "      <td>Untitled-1-1</td>\n",
       "      <td>0.6</td>\n",
       "      <td>0.711494</td>\n",
       "      <td>0.696577</td>\n",
       "      <td>0.657864</td>\n",
       "      <td>0.831430</td>\n",
       "      <td>43</td>\n",
       "      <td>62</td>\n",
       "    </tr>\n",
       "    <tr>\n",
       "      <th>6</th>\n",
       "      <td>Untitled-1-2</td>\n",
       "      <td>0.6</td>\n",
       "      <td>0.579154</td>\n",
       "      <td>0.404444</td>\n",
       "      <td>0.470586</td>\n",
       "      <td>0.733499</td>\n",
       "      <td>78</td>\n",
       "      <td>80</td>\n",
       "    </tr>\n",
       "    <tr>\n",
       "      <th>7</th>\n",
       "      <td>Untitled-1-3</td>\n",
       "      <td>0.6</td>\n",
       "      <td>0.497305</td>\n",
       "      <td>0.288177</td>\n",
       "      <td>0.436365</td>\n",
       "      <td>0.664267</td>\n",
       "      <td>95</td>\n",
       "      <td>54</td>\n",
       "    </tr>\n",
       "    <tr>\n",
       "      <th>8</th>\n",
       "      <td>Untitled-1-4</td>\n",
       "      <td>0.6</td>\n",
       "      <td>0.308651</td>\n",
       "      <td>0.482424</td>\n",
       "      <td>0.577847</td>\n",
       "      <td>0.471709</td>\n",
       "      <td>20</td>\n",
       "      <td>54</td>\n",
       "    </tr>\n",
       "    <tr>\n",
       "      <th>9</th>\n",
       "      <td>Untitled-1-5</td>\n",
       "      <td>0.6</td>\n",
       "      <td>0.707535</td>\n",
       "      <td>0.586920</td>\n",
       "      <td>0.644668</td>\n",
       "      <td>0.828721</td>\n",
       "      <td>103</td>\n",
       "      <td>114</td>\n",
       "    </tr>\n",
       "  </tbody>\n",
       "</table>\n",
       "</div>"
      ],
      "text/plain": [
       "       filename  stitch_threshold   jaccard  sparse_jaccard  centroid_jaccard  \\\n",
       "0  Untitled-1-1               0.5  0.715796        0.699374          0.660728   \n",
       "1  Untitled-1-2               0.5  0.580339        0.391968          0.467275   \n",
       "2  Untitled-1-3               0.5  0.496363        0.273470          0.412819   \n",
       "3  Untitled-1-4               0.5  0.310429        0.503283          0.604249   \n",
       "4  Untitled-1-5               0.5  0.717595        0.551870          0.591606   \n",
       "5  Untitled-1-1               0.6  0.711494        0.696577          0.657864   \n",
       "6  Untitled-1-2               0.6  0.579154        0.404444          0.470586   \n",
       "7  Untitled-1-3               0.6  0.497305        0.288177          0.436365   \n",
       "8  Untitled-1-4               0.6  0.308651        0.482424          0.577847   \n",
       "9  Untitled-1-5               0.6  0.707535        0.586920          0.644668   \n",
       "\n",
       "   binary_f1  gt_objects  pred_objects  \n",
       "0   0.834360          43            58  \n",
       "1   0.734448          78            79  \n",
       "2   0.663426          95            54  \n",
       "3   0.473782          20            56  \n",
       "4   0.835581         103            96  \n",
       "5   0.831430          43            62  \n",
       "6   0.733499          78            80  \n",
       "7   0.664267          95            54  \n",
       "8   0.471709          20            54  \n",
       "9   0.828721         103           114  "
      ]
     },
     "execution_count": 55,
     "metadata": {},
     "output_type": "execute_result"
    }
   ],
   "source": [
    "df_cellpose"
   ]
  },
  {
   "cell_type": "code",
   "execution_count": 56,
   "id": "3279d673",
   "metadata": {},
   "outputs": [
    {
     "data": {
      "image/png": "[encoded data removed]",
      "text/plain": [
       "<Figure size 1000x600 with 1 Axes>"
      ]
     },
     "metadata": {},
     "output_type": "display_data"
    }
   ],
   "source": [
    "import matplotlib.pyplot as plt\n",
    "import seaborn as sns\n",
    "\n",
    "# Group by stitch_threshold and compute mean of each metric\n",
    "grouped = df_cellpose.groupby(\"stitch_threshold\").mean(numeric_only=True).reset_index()\n",
    "\n",
    "# Plot\n",
    "plt.figure(figsize=(10, 6))\n",
    "sns.lineplot(data=grouped, x=\"stitch_threshold\", y=\"jaccard\", label=\"Jaccard Index\")\n",
    "sns.lineplot(data=grouped, x=\"stitch_threshold\", y=\"sparse_jaccard\", label=\"Sparse Jaccard\")\n",
    "sns.lineplot(data=grouped, x=\"stitch_threshold\", y=\"centroid_jaccard\", label=\"Centroid Jaccard\")\n",
    "sns.lineplot(data=grouped, x=\"stitch_threshold\", y=\"binary_f1\", label=\"Binary F1\")\n",
    "\n",
    "plt.xlabel(\"Stitch Threshold\")\n",
    "plt.ylabel(\"Mean Metric Value\")\n",
    "plt.title(\"Segmentation Quality vs Stitch Threshold\")\n",
    "plt.legend()\n",
    "plt.grid(True)\n",
    "plt.tight_layout()\n",
    "plt.show()\n"
   ]
  },
  {
   "cell_type": "code",
   "execution_count": 10,
   "id": "5256f561",
   "metadata": {},
   "outputs": [],
   "source": [
    "from skimage.measure import regionprops, label\n",
    "\n",
    "from joblib import Parallel, delayed\n",
    "import multiprocessing\n",
    "\n",
    "import gc"
   ]
  },
  {
   "cell_type": "code",
   "execution_count": 30,
   "id": "7e00be14",
   "metadata": {},
   "outputs": [],
   "source": [
    "##functions\n",
    "def filter_single_z_slice_objects(array):\n",
    "    # Step 1: Count unique labels in each z-slice\n",
    "    unique_labels_all_slices = np.array(0)\n",
    "    for z in range(array.shape[0]):\n",
    "        unique_labels_all_slices = np.append(unique_labels_all_slices,np.unique(array[z]))\n",
    "    \n",
    "    #Step 2: Identify labels that appear only once across all z-slices\n",
    "    print(\"finding labels that are only in 1 z slice\")\n",
    "    unique_values, value_counts = np.unique(unique_labels_all_slices, return_counts=True)\n",
    "    non_duplicate_values = unique_values[value_counts == 1]\n",
    "\n",
    "    print(f\"Found {len(non_duplicate_values)} 1 slice only labels out of {len(unique_values)} total labels\")\n",
    "\n",
    "    # Step 3: Filter out objects with labels present in only one z-slice\n",
    "    #print(\"copying original array\")\n",
    "    filtered_array = np.copy(array)\n",
    "    # Create a mask where True indicates the positions where 'array' matches any value in 'non_duplicate_values'\n",
    "    mask = np.isin(array, non_duplicate_values)\n",
    "    \n",
    "    # Set the elements in `array` where mask is True to 0\n",
    "    filtered_array[mask] = 0\n",
    "    return filtered_array\n",
    "\n",
    "# Function to calculate IoU between two binary masks (same shape)\n",
    "def calculate_iou(slice1, slice2):\n",
    "    intersection = np.logical_and(slice1, slice2).sum()\n",
    "    union = np.logical_or(slice1, slice2).sum()\n",
    "    if union == 0:\n",
    "        return 0\n",
    "    return intersection / union\n",
    "\n",
    "# Function to expand slices for a single object\n",
    "def expand_slices(label_id, z_centroid, y_centroid, x_centroid, membrane_filtered, membrane, z_slices, iou_threshold):\n",
    "    current_object = membrane_filtered[z_centroid] == label_id\n",
    "    orig_label_id = membrane[z_centroid, y_centroid, x_centroid]\n",
    "    \n",
    "    if orig_label_id != 0:\n",
    "        expanded_slices = [(z_centroid, orig_label_id)]  # Start with the centroid slice\n",
    "    else:\n",
    "        expanded_slices = []\n",
    "    \n",
    "    # Expand upwards and downwards in Z\n",
    "    for direction in [-1, 1]:  # -1 for upwards, 1 for downwards\n",
    "        z = z_centroid + direction\n",
    "        \n",
    "        while 0 <= z < z_slices:  # Ensure z is within bounds\n",
    "            candidate_slice = membrane[z]  # Get the original membrane slice at z\n",
    "            candidate_object_value = candidate_slice[y_centroid, x_centroid]\n",
    "            \n",
    "            if candidate_object_value != 0:  # If object exists in this slice\n",
    "                candidate_object = candidate_slice == candidate_object_value\n",
    "                iou_score = calculate_iou(current_object, candidate_object)\n",
    "                \n",
    "                if iou_score > iou_threshold:\n",
    "                    expanded_slices.append((z, candidate_object_value))  # Add this slice to the object\n",
    "                else:\n",
    "                    break  # Stop expanding in this direction if IoU is below threshold\n",
    "            else:\n",
    "                break  # No object found in this slice, stop\n",
    "\n",
    "            z += direction  # Move up or down in Z\n",
    "\n",
    "    return label_id, expanded_slices\n",
    "\n",
    "def resolve_conflicts(expanded_objects, membrane_filtered, membrane, centroid_dict):\n",
    "    slice_ownership = {}  # Map of (z, slice) -> label ownership\n",
    "    final_expanded_objects = {}\n",
    "\n",
    "    # First pass: Assign slices to the first object that claims them\n",
    "    for label_id, slices in tqdm(expanded_objects.items()):\n",
    "        final_expanded_objects[label_id] = []\n",
    "        for z, obj_label in slices:\n",
    "            if (z, obj_label) not in slice_ownership:\n",
    "                slice_ownership[(z, obj_label)] = label_id\n",
    "                final_expanded_objects[label_id].append((z, obj_label))\n",
    "            else:\n",
    "                # Conflict! Compare IoU with current owner\n",
    "                current_owner = slice_ownership[(z, obj_label)]\n",
    "                current_owner_z = int(centroid_dict[current_owner][0])\n",
    "                new_owner_z = int(centroid_dict[label_id][0])\n",
    "                iou_current = calculate_iou(membrane_filtered[current_owner_z] == current_owner,\n",
    "                                            membrane[z] == obj_label)\n",
    "                iou_new = calculate_iou(membrane_filtered[new_owner_z] == label_id,\n",
    "                                        membrane[z] == obj_label)\n",
    "\n",
    "                if iou_new > iou_current:\n",
    "                    # Reassign slice to the new label\n",
    "                    slice_ownership[(z, obj_label)] = label_id\n",
    "                    final_expanded_objects[label_id].append((z, obj_label))\n",
    "                    # Remove the slice from the previous owner's list\n",
    "                    if current_owner in final_expanded_objects:\n",
    "                        final_expanded_objects[current_owner] = [s for s in final_expanded_objects[current_owner] if s != (z, obj_label)]\n",
    "\n",
    "    return final_expanded_objects\n",
    "\n"
   ]
  },
  {
   "cell_type": "code",
   "execution_count": 31,
   "id": "4e23bbe1",
   "metadata": {},
   "outputs": [],
   "source": [
    "# Function to process a single membrane TIFF file\n",
    "def process_membrane_image(input_mask, iou_threshold=0.3):\n",
    "    \n",
    "    # Prepare a copy of the membrane array for filtering\n",
    "    membrane_filtered = np.copy(input_mask)\n",
    "\n",
    "    # Label the membrane filtered array and extract the centroids\n",
    "    labeled_membrane = label(membrane_filtered)\n",
    "    object_props = regionprops(labeled_membrane)\n",
    "\n",
    "    # Collect the centroids in a dictionary: key = label, value = (z, y, x) centroid coordinates\n",
    "    centroid_dict = {}\n",
    "    for prop in object_props:\n",
    "        label_id = prop.label\n",
    "        centroid_dict[label_id] = prop.centroid  # (z, y, x)\n",
    "\n",
    "    z_slices = input_mask.shape[0]\n",
    "\n",
    "    # Get the number of available CPU cores\n",
    "    num_cores = multiprocessing.cpu_count()\n",
    "\n",
    "    # First parallel step - Expanding objects\n",
    "    with Parallel(n_jobs=num_cores) as parallel:\n",
    "        expanded_objects = parallel(\n",
    "            delayed(expand_slices)(label_id, int(round(z)), int(round(y)), int(round(x)), \n",
    "                                   labeled_membrane, input_mask, z_slices, iou_threshold)\n",
    "            for label_id, (z, y, x) in tqdm(centroid_dict.items())\n",
    "        )\n",
    "\n",
    "    # Convert the result back to a dictionary\n",
    "    expanded_objects = dict(expanded_objects)\n",
    "\n",
    "    # Free resources and force garbage collection\n",
    "    del parallel  # Explicitly remove the parallel object to free up memory\n",
    "    gc.collect()  # Force garbage collection to free unused resources\n",
    "\n",
    "    # Resolve the conflicts and get the final expanded objects\n",
    "    final_expanded_objects = resolve_conflicts(expanded_objects, labeled_membrane, input_mask, centroid_dict)\n",
    "\n",
    "    # Remove entries where the value (list of slices) is empty\n",
    "    final_expanded_objects = {label_id: slices for label_id, slices in final_expanded_objects.items() if slices}\n",
    "\n",
    "    # Final membrane array to store the result\n",
    "    final_membrane_array = np.zeros_like(input_mask, dtype=np.int16)\n",
    "\n",
    "    # Reconstruct the final relabelled array based on the expanded objects\n",
    "    for label_id, slices in tqdm(final_expanded_objects.items()):\n",
    "        for z, obj_label in slices:\n",
    "            # Assign this object's label to the final membrane array at the slice\n",
    "            final_membrane_array[z][input_mask[z] == obj_label] = label_id\n",
    "\n",
    "    # Apply additional filtering if necessary (filter_single_z_slice_objects function)\n",
    "    final_membrane_filtered = filter_single_z_slice_objects(final_membrane_array)\n",
    "\n",
    "    # Save the final relabelled membrane array to the output folder\n",
    "    #base_filename = os.path.basename(file_path)  # Get the original file name\n",
    "    #output_path = os.path.join(output_folder, f\"final_relabelled_{base_filename}\")\n",
    "    #tiff.imwrite(output_path, final_membrane_filtered)\n",
    "\n",
    "    return final_membrane_filtered"
   ]
  },
  {
   "cell_type": "code",
   "execution_count": 39,
   "id": "4cecb21f",
   "metadata": {},
   "outputs": [],
   "source": [
    "def evaluate_with_postprocessing(raw_folder, model_path, gt_suffix=\"-labels.tif\", stitch_threshold=0.6):\n",
    "    raw_files = sorted(glob(os.path.join(raw_folder, \"*-8bit.tif\")))\n",
    "    model = models.CellposeModel(gpu=True, pretrained_model=model_path)\n",
    "    results = []\n",
    "\n",
    "    for raw_path in tqdm(raw_files):\n",
    "        base = os.path.basename(raw_path).replace(\"-8bit.tif\", \"\")\n",
    "        gt_path = os.path.join(raw_folder, base + gt_suffix)\n",
    "        if not os.path.exists(gt_path):\n",
    "            print(f\"Missing GT: {base}\")\n",
    "            continue\n",
    "\n",
    "        # 1. Run Cellpose\n",
    "        img = imread(raw_path)\n",
    "        masks, _, _ = model.eval(\n",
    "            img,\n",
    "            channels=[0, 0],\n",
    "            normalize=True,\n",
    "            stitch_threshold=stitch_threshold,\n",
    "            flow_threshold=1,\n",
    "            cellprob_threshold=-1,\n",
    "        )\n",
    "\n",
    "        # 2. Run post-processing pipeline on predicted mask\n",
    "        masks_processed = process_membrane_image(masks, iou_threshold=0.6)\n",
    "\n",
    "        pred = remove_border_labels(masks_processed)\n",
    "\n",
    "        # 3. Load ground truth\n",
    "        gt = tiff.imread(gt_path)\n",
    "\n",
    "        # 4. Compute metrics\n",
    "        jaccard = compute_jaccard_index(gt, pred)\n",
    "        sparse_jac = compute_sparse_jaccard(gt, pred)\n",
    "        centroid_jac = compute_centroid_jaccard(gt, pred)\n",
    "        binary_stats = compute_binary_f1_and_counts(gt, pred)\n",
    "\n",
    "        results.append({\n",
    "            \"filename\": base,\n",
    "            \"jaccard\": jaccard,\n",
    "            \"sparse_jaccard\": sparse_jac,\n",
    "            \"centroid_jaccard\": centroid_jac,\n",
    "            **binary_stats\n",
    "        })\n",
    "\n",
    "    df = pd.DataFrame(results)\n",
    "    return df\n"
   ]
  },
  {
   "cell_type": "code",
   "execution_count": 40,
   "id": "cab4b09f",
   "metadata": {},
   "outputs": [
    {
     "name": "stderr",
     "output_type": "stream",
     "text": [
      "100%|██████████| 38/38 [00:00<00:00, 2458.90it/s]\n",
      "100%|██████████| 198/198 [00:05<00:00, 33.84it/s]\n",
      "100%|██████████| 198/198 [00:00<00:00, 32997.15it/s]\n",
      "100%|██████████| 195/195 [00:00<00:00, 5232.05it/s]\n"
     ]
    },
    {
     "name": "stdout",
     "output_type": "stream",
     "text": [
      "finding labels that are only in 1 z slice\n",
      "Found 98 1 slice only labels out of 196 total labels\n"
     ]
    },
    {
     "name": "stderr",
     "output_type": "stream",
     "text": [
      "100%|██████████| 38/38 [00:00<00:00, 1212.75it/s]\n",
      "100%|██████████| 346/346 [00:00<00:00, 724.22it/s]\n",
      "100%|██████████| 346/346 [00:00<00:00, 33811.63it/s]\n",
      "100%|██████████| 323/323 [00:00<00:00, 14867.22it/s]\n"
     ]
    },
    {
     "name": "stdout",
     "output_type": "stream",
     "text": [
      "finding labels that are only in 1 z slice\n",
      "Found 205 1 slice only labels out of 324 total labels\n"
     ]
    },
    {
     "name": "stderr",
     "output_type": "stream",
     "text": [
      "100%|██████████| 38/38 [00:00<00:00, 1834.86it/s]\n",
      "100%|██████████| 290/290 [00:00<00:00, 771.42it/s]\n",
      "100%|██████████| 290/290 [00:00<00:00, 9536.77it/s]\n",
      "100%|██████████| 274/274 [00:00<00:00, 21058.37it/s]\n"
     ]
    },
    {
     "name": "stdout",
     "output_type": "stream",
     "text": [
      "finding labels that are only in 1 z slice\n",
      "Found 189 1 slice only labels out of 275 total labels\n"
     ]
    },
    {
     "name": "stderr",
     "output_type": "stream",
     "text": [
      "100%|██████████| 38/38 [00:00<00:00, 1872.19it/s]\n",
      "100%|██████████| 280/280 [00:00<00:00, 753.45it/s]\n",
      "100%|██████████| 280/280 [00:00<00:00, 7286.52it/s]\n",
      "100%|██████████| 259/259 [00:00<00:00, 12320.24it/s]\n"
     ]
    },
    {
     "name": "stdout",
     "output_type": "stream",
     "text": [
      "finding labels that are only in 1 z slice\n",
      "Found 181 1 slice only labels out of 260 total labels\n"
     ]
    },
    {
     "name": "stderr",
     "output_type": "stream",
     "text": [
      "100%|██████████| 19/19 [00:00<00:00, 1853.34it/s]\n",
      "100%|██████████| 294/294 [00:00<00:00, 933.08it/s]\n",
      "100%|██████████| 294/294 [00:00<00:00, 25530.55it/s]\n",
      "100%|██████████| 289/289 [00:00<00:00, 9009.42it/s]\n"
     ]
    },
    {
     "name": "stdout",
     "output_type": "stream",
     "text": [
      "finding labels that are only in 1 z slice\n",
      "Found 114 1 slice only labels out of 290 total labels\n"
     ]
    },
    {
     "name": "stderr",
     "output_type": "stream",
     "text": [
      "100%|██████████| 5/5 [01:00<00:00, 12.07s/it]\n"
     ]
    }
   ],
   "source": [
    "df = evaluate_with_postprocessing(raw_folder=\"D:/membrane segmentation gc/cellpose_testing\",\n",
    "    model_path=\"C:/Users/ghr283/.cellpose/models/mem_mneongreen2\")"
   ]
  },
  {
   "cell_type": "code",
   "execution_count": 43,
   "id": "5385b811",
   "metadata": {},
   "outputs": [],
   "source": [
    "def evaluate_slicewise_from_3d(raw_folder, model_path, gt_suffix=\"-labels.tif\", stitch_threshold=0.6):\n",
    "    raw_files = sorted(glob(os.path.join(raw_folder, \"*-8bit.tif\")))\n",
    "    model = models.CellposeModel(gpu=True, pretrained_model=model_path)\n",
    "    results = []\n",
    "\n",
    "    for raw_path in tqdm(raw_files):\n",
    "        base = os.path.basename(raw_path).replace(\"-8bit.tif\", \"\")\n",
    "        gt_path = os.path.join(raw_folder, base + gt_suffix)\n",
    "        if not os.path.exists(gt_path):\n",
    "            print(f\"Missing GT: {base}\")\n",
    "            continue\n",
    "\n",
    "        # Load 3D image and ground truth\n",
    "        img_stack = imread(raw_path)\n",
    "        gt_stack = tiff.imread(gt_path)\n",
    "\n",
    "        # === Cellpose full-volume segmentation ===\n",
    "        masks, _, _ = model.eval(\n",
    "            img_stack,\n",
    "            channels=[0, 0],\n",
    "            normalize=True,\n",
    "            stitch_threshold=stitch_threshold,\n",
    "            flow_threshold=1,\n",
    "            cellprob_threshold=-1,\n",
    "        )\n",
    "\n",
    "        # Post-process the full volume\n",
    "        masks_processed = filter_single_z_slice_objects(masks)\n",
    "        pred_stack = remove_border_labels(masks_processed)\n",
    "\n",
    "        # === Per-slice evaluation ===\n",
    "        for z in range(img_stack.shape[0]):\n",
    "            gt_slice = gt_stack[z]\n",
    "            pred_slice = pred_stack[z]\n",
    "\n",
    "            if np.max(gt_slice) == 0 and np.max(pred_slice) == 0:\n",
    "                continue  # Skip empty slices\n",
    "\n",
    "            jaccard = compute_jaccard_index(gt_slice, pred_slice)\n",
    "            sparse_jac = compute_sparse_jaccard(gt_slice, pred_slice)\n",
    "            centroid_jac = compute_centroid_jaccard(gt_slice, pred_slice)\n",
    "            binary_stats = compute_binary_f1_and_counts(gt_slice, pred_slice)\n",
    "\n",
    "            results.append({\n",
    "                \"filename\": base,\n",
    "                \"slice\": z,\n",
    "                \"jaccard\": jaccard,\n",
    "                \"sparse_jaccard\": sparse_jac,\n",
    "                \"centroid_jaccard\": centroid_jac,\n",
    "                **binary_stats\n",
    "            })\n",
    "\n",
    "    return pd.DataFrame(results)\n"
   ]
  },
  {
   "cell_type": "code",
   "execution_count": 44,
   "id": "40b6a671",
   "metadata": {},
   "outputs": [
    {
     "name": "stderr",
     "output_type": "stream",
     "text": [
      "100%|██████████| 38/38 [00:00<00:00, 2271.39it/s]\n"
     ]
    },
    {
     "name": "stdout",
     "output_type": "stream",
     "text": [
      "finding labels that are only in 1 z slice\n",
      "Found 98 1 slice only labels out of 196 total labels\n"
     ]
    },
    {
     "name": "stderr",
     "output_type": "stream",
     "text": [
      "100%|██████████| 38/38 [00:00<00:00, 2215.17it/s]\n"
     ]
    },
    {
     "name": "stdout",
     "output_type": "stream",
     "text": [
      "finding labels that are only in 1 z slice\n",
      "Found 207 1 slice only labels out of 326 total labels\n"
     ]
    },
    {
     "name": "stderr",
     "output_type": "stream",
     "text": [
      "100%|██████████| 38/38 [00:00<00:00, 1579.98it/s]\n"
     ]
    },
    {
     "name": "stdout",
     "output_type": "stream",
     "text": [
      "finding labels that are only in 1 z slice\n",
      "Found 190 1 slice only labels out of 276 total labels\n"
     ]
    },
    {
     "name": "stderr",
     "output_type": "stream",
     "text": [
      "100%|██████████| 38/38 [00:00<00:00, 2126.79it/s]\n"
     ]
    },
    {
     "name": "stdout",
     "output_type": "stream",
     "text": [
      "finding labels that are only in 1 z slice\n",
      "Found 183 1 slice only labels out of 262 total labels\n"
     ]
    },
    {
     "name": "stderr",
     "output_type": "stream",
     "text": [
      "100%|██████████| 19/19 [00:00<00:00, 2466.63it/s]\n"
     ]
    },
    {
     "name": "stdout",
     "output_type": "stream",
     "text": [
      "finding labels that are only in 1 z slice\n",
      "Found 114 1 slice only labels out of 290 total labels\n"
     ]
    },
    {
     "name": "stderr",
     "output_type": "stream",
     "text": [
      "100%|██████████| 5/5 [00:28<00:00,  5.79s/it]\n"
     ]
    }
   ],
   "source": [
    "df_2d = evaluate_slicewise_from_3d(raw_folder=\"D:/membrane segmentation gc/cellpose_testing\",\n",
    "    model_path=\"C:/Users/ghr283/.cellpose/models/mem_mneongreen2\")"
   ]
  },
  {
   "cell_type": "code",
   "execution_count": 48,
   "id": "7c37f379",
   "metadata": {},
   "outputs": [
    {
     "data": {
      "text/html": [
       "<div>\n",
       "<style scoped>\n",
       "    .dataframe tbody tr th:only-of-type {\n",
       "        vertical-align: middle;\n",
       "    }\n",
       "\n",
       "    .dataframe tbody tr th {\n",
       "        vertical-align: top;\n",
       "    }\n",
       "\n",
       "    .dataframe thead th {\n",
       "        text-align: right;\n",
       "    }\n",
       "</style>\n",
       "<table border=\"1\" class=\"dataframe\">\n",
       "  <thead>\n",
       "    <tr style=\"text-align: right;\">\n",
       "      <th></th>\n",
       "      <th>filename</th>\n",
       "      <th>slice</th>\n",
       "      <th>jaccard</th>\n",
       "      <th>sparse_jaccard</th>\n",
       "      <th>centroid_jaccard</th>\n",
       "      <th>binary_f1</th>\n",
       "      <th>gt_objects</th>\n",
       "      <th>pred_objects</th>\n",
       "    </tr>\n",
       "  </thead>\n",
       "  <tbody>\n",
       "    <tr>\n",
       "      <th>0</th>\n",
       "      <td>Untitled-1-1</td>\n",
       "      <td>4</td>\n",
       "      <td>0.000000</td>\n",
       "      <td>0.000000</td>\n",
       "      <td>0.000000</td>\n",
       "      <td>0.000000</td>\n",
       "      <td>0</td>\n",
       "      <td>5</td>\n",
       "    </tr>\n",
       "    <tr>\n",
       "      <th>1</th>\n",
       "      <td>Untitled-1-1</td>\n",
       "      <td>5</td>\n",
       "      <td>0.091832</td>\n",
       "      <td>0.842572</td>\n",
       "      <td>0.842572</td>\n",
       "      <td>0.168216</td>\n",
       "      <td>1</td>\n",
       "      <td>8</td>\n",
       "    </tr>\n",
       "    <tr>\n",
       "      <th>2</th>\n",
       "      <td>Untitled-1-1</td>\n",
       "      <td>6</td>\n",
       "      <td>0.612989</td>\n",
       "      <td>0.732504</td>\n",
       "      <td>0.826352</td>\n",
       "      <td>0.760066</td>\n",
       "      <td>24</td>\n",
       "      <td>25</td>\n",
       "    </tr>\n",
       "    <tr>\n",
       "      <th>3</th>\n",
       "      <td>Untitled-1-1</td>\n",
       "      <td>7</td>\n",
       "      <td>0.762251</td>\n",
       "      <td>0.812345</td>\n",
       "      <td>0.838390</td>\n",
       "      <td>0.865088</td>\n",
       "      <td>32</td>\n",
       "      <td>37</td>\n",
       "    </tr>\n",
       "    <tr>\n",
       "      <th>4</th>\n",
       "      <td>Untitled-1-1</td>\n",
       "      <td>8</td>\n",
       "      <td>0.771121</td>\n",
       "      <td>0.816208</td>\n",
       "      <td>0.862467</td>\n",
       "      <td>0.870772</td>\n",
       "      <td>36</td>\n",
       "      <td>40</td>\n",
       "    </tr>\n",
       "    <tr>\n",
       "      <th>...</th>\n",
       "      <td>...</td>\n",
       "      <td>...</td>\n",
       "      <td>...</td>\n",
       "      <td>...</td>\n",
       "      <td>...</td>\n",
       "      <td>...</td>\n",
       "      <td>...</td>\n",
       "      <td>...</td>\n",
       "    </tr>\n",
       "    <tr>\n",
       "      <th>73</th>\n",
       "      <td>Untitled-1-5</td>\n",
       "      <td>14</td>\n",
       "      <td>0.748268</td>\n",
       "      <td>0.699222</td>\n",
       "      <td>0.762745</td>\n",
       "      <td>0.856010</td>\n",
       "      <td>70</td>\n",
       "      <td>65</td>\n",
       "    </tr>\n",
       "    <tr>\n",
       "      <th>74</th>\n",
       "      <td>Untitled-1-5</td>\n",
       "      <td>15</td>\n",
       "      <td>0.586894</td>\n",
       "      <td>0.678525</td>\n",
       "      <td>0.691243</td>\n",
       "      <td>0.739676</td>\n",
       "      <td>55</td>\n",
       "      <td>63</td>\n",
       "    </tr>\n",
       "    <tr>\n",
       "      <th>75</th>\n",
       "      <td>Untitled-1-5</td>\n",
       "      <td>16</td>\n",
       "      <td>0.265045</td>\n",
       "      <td>0.610833</td>\n",
       "      <td>0.642839</td>\n",
       "      <td>0.419029</td>\n",
       "      <td>20</td>\n",
       "      <td>51</td>\n",
       "    </tr>\n",
       "    <tr>\n",
       "      <th>76</th>\n",
       "      <td>Untitled-1-5</td>\n",
       "      <td>17</td>\n",
       "      <td>0.061990</td>\n",
       "      <td>0.578894</td>\n",
       "      <td>0.578894</td>\n",
       "      <td>0.116743</td>\n",
       "      <td>3</td>\n",
       "      <td>23</td>\n",
       "    </tr>\n",
       "    <tr>\n",
       "      <th>77</th>\n",
       "      <td>Untitled-1-5</td>\n",
       "      <td>18</td>\n",
       "      <td>0.000000</td>\n",
       "      <td>0.000000</td>\n",
       "      <td>0.000000</td>\n",
       "      <td>0.000000</td>\n",
       "      <td>0</td>\n",
       "      <td>20</td>\n",
       "    </tr>\n",
       "  </tbody>\n",
       "</table>\n",
       "<p>78 rows × 8 columns</p>\n",
       "</div>"
      ],
      "text/plain": [
       "        filename  slice   jaccard  sparse_jaccard  centroid_jaccard  \\\n",
       "0   Untitled-1-1      4  0.000000        0.000000          0.000000   \n",
       "1   Untitled-1-1      5  0.091832        0.842572          0.842572   \n",
       "2   Untitled-1-1      6  0.612989        0.732504          0.826352   \n",
       "3   Untitled-1-1      7  0.762251        0.812345          0.838390   \n",
       "4   Untitled-1-1      8  0.771121        0.816208          0.862467   \n",
       "..           ...    ...       ...             ...               ...   \n",
       "73  Untitled-1-5     14  0.748268        0.699222          0.762745   \n",
       "74  Untitled-1-5     15  0.586894        0.678525          0.691243   \n",
       "75  Untitled-1-5     16  0.265045        0.610833          0.642839   \n",
       "76  Untitled-1-5     17  0.061990        0.578894          0.578894   \n",
       "77  Untitled-1-5     18  0.000000        0.000000          0.000000   \n",
       "\n",
       "    binary_f1  gt_objects  pred_objects  \n",
       "0    0.000000           0             5  \n",
       "1    0.168216           1             8  \n",
       "2    0.760066          24            25  \n",
       "3    0.865088          32            37  \n",
       "4    0.870772          36            40  \n",
       "..        ...         ...           ...  \n",
       "73   0.856010          70            65  \n",
       "74   0.739676          55            63  \n",
       "75   0.419029          20            51  \n",
       "76   0.116743           3            23  \n",
       "77   0.000000           0            20  \n",
       "\n",
       "[78 rows x 8 columns]"
      ]
     },
     "execution_count": 48,
     "metadata": {},
     "output_type": "execute_result"
    }
   ],
   "source": [
    "df_2d"
   ]
  },
  {
   "cell_type": "code",
   "execution_count": 47,
   "id": "8355fed8",
   "metadata": {},
   "outputs": [
    {
     "data": {
      "text/html": [
       "<div>\n",
       "<style scoped>\n",
       "    .dataframe tbody tr th:only-of-type {\n",
       "        vertical-align: middle;\n",
       "    }\n",
       "\n",
       "    .dataframe tbody tr th {\n",
       "        vertical-align: top;\n",
       "    }\n",
       "\n",
       "    .dataframe thead th {\n",
       "        text-align: right;\n",
       "    }\n",
       "</style>\n",
       "<table border=\"1\" class=\"dataframe\">\n",
       "  <thead>\n",
       "    <tr style=\"text-align: right;\">\n",
       "      <th></th>\n",
       "      <th>filename</th>\n",
       "      <th>jaccard</th>\n",
       "      <th>sparse_jaccard</th>\n",
       "      <th>centroid_jaccard</th>\n",
       "      <th>binary_f1</th>\n",
       "      <th>gt_objects</th>\n",
       "      <th>pred_objects</th>\n",
       "    </tr>\n",
       "  </thead>\n",
       "  <tbody>\n",
       "    <tr>\n",
       "      <th>0</th>\n",
       "      <td>Untitled-1-1</td>\n",
       "      <td>0.715731</td>\n",
       "      <td>0.694915</td>\n",
       "      <td>0.654435</td>\n",
       "      <td>0.834316</td>\n",
       "      <td>43</td>\n",
       "      <td>62</td>\n",
       "    </tr>\n",
       "    <tr>\n",
       "      <th>1</th>\n",
       "      <td>Untitled-1-2</td>\n",
       "      <td>0.554984</td>\n",
       "      <td>0.388384</td>\n",
       "      <td>0.462268</td>\n",
       "      <td>0.713813</td>\n",
       "      <td>78</td>\n",
       "      <td>80</td>\n",
       "    </tr>\n",
       "    <tr>\n",
       "      <th>2</th>\n",
       "      <td>Untitled-1-3</td>\n",
       "      <td>0.492101</td>\n",
       "      <td>0.289895</td>\n",
       "      <td>0.448457</td>\n",
       "      <td>0.659608</td>\n",
       "      <td>95</td>\n",
       "      <td>54</td>\n",
       "    </tr>\n",
       "    <tr>\n",
       "      <th>3</th>\n",
       "      <td>Untitled-1-4</td>\n",
       "      <td>0.298251</td>\n",
       "      <td>0.468771</td>\n",
       "      <td>0.560781</td>\n",
       "      <td>0.459466</td>\n",
       "      <td>20</td>\n",
       "      <td>54</td>\n",
       "    </tr>\n",
       "    <tr>\n",
       "      <th>4</th>\n",
       "      <td>Untitled-1-5</td>\n",
       "      <td>0.681455</td>\n",
       "      <td>0.582093</td>\n",
       "      <td>0.637559</td>\n",
       "      <td>0.810554</td>\n",
       "      <td>103</td>\n",
       "      <td>116</td>\n",
       "    </tr>\n",
       "  </tbody>\n",
       "</table>\n",
       "</div>"
      ],
      "text/plain": [
       "       filename   jaccard  sparse_jaccard  centroid_jaccard  binary_f1  \\\n",
       "0  Untitled-1-1  0.715731        0.694915          0.654435   0.834316   \n",
       "1  Untitled-1-2  0.554984        0.388384          0.462268   0.713813   \n",
       "2  Untitled-1-3  0.492101        0.289895          0.448457   0.659608   \n",
       "3  Untitled-1-4  0.298251        0.468771          0.560781   0.459466   \n",
       "4  Untitled-1-5  0.681455        0.582093          0.637559   0.810554   \n",
       "\n",
       "   gt_objects  pred_objects  \n",
       "0          43            62  \n",
       "1          78            80  \n",
       "2          95            54  \n",
       "3          20            54  \n",
       "4         103           116  "
      ]
     },
     "execution_count": 47,
     "metadata": {},
     "output_type": "execute_result"
    }
   ],
   "source": [
    "df"
   ]
  },
  {
   "cell_type": "code",
   "execution_count": 41,
   "id": "aa336057",
   "metadata": {},
   "outputs": [
    {
     "name": "stderr",
     "output_type": "stream",
     "text": [
      "C:\\Users\\ghr283\\AppData\\Local\\Temp\\ipykernel_23052\\3698961737.py:1: FutureWarning: The default value of numeric_only in DataFrame.mean is deprecated. In a future version, it will default to False. In addition, specifying 'numeric_only=None' is deprecated. Select only valid columns or specify the value of numeric_only to silence this warning.\n",
      "  df.mean()\n"
     ]
    },
    {
     "data": {
      "text/plain": [
       "jaccard              0.548504\n",
       "sparse_jaccard       0.484811\n",
       "centroid_jaccard     0.552700\n",
       "binary_f1            0.695551\n",
       "gt_objects          67.800000\n",
       "pred_objects        73.200000\n",
       "dtype: float64"
      ]
     },
     "execution_count": 41,
     "metadata": {},
     "output_type": "execute_result"
    }
   ],
   "source": [
    "df.mean()"
   ]
  },
  {
   "cell_type": "code",
   "execution_count": 42,
   "id": "5ee44d1c",
   "metadata": {},
   "outputs": [
    {
     "data": {
      "text/plain": [
       "filename            Untitled-1-1Untitled-1-2Untitled-1-3Untitled-1...\n",
       "jaccard                                                      2.742522\n",
       "sparse_jaccard                                               2.424057\n",
       "centroid_jaccard                                             2.763499\n",
       "binary_f1                                                    3.477757\n",
       "gt_objects                                                        339\n",
       "pred_objects                                                      366\n",
       "dtype: object"
      ]
     },
     "execution_count": 42,
     "metadata": {},
     "output_type": "execute_result"
    }
   ],
   "source": [
    "df.sum()"
   ]
  },
  {
   "cell_type": "code",
   "execution_count": 50,
   "id": "8987fdda",
   "metadata": {},
   "outputs": [
    {
     "name": "stderr",
     "output_type": "stream",
     "text": [
      "C:\\Users\\ghr283\\AppData\\Local\\Temp\\ipykernel_23052\\3768492693.py:1: FutureWarning: The default value of numeric_only in DataFrame.mean is deprecated. In a future version, it will default to False. In addition, specifying 'numeric_only=None' is deprecated. Select only valid columns or specify the value of numeric_only to silence this warning.\n",
      "  df_2d[df_2d != 0].mean()\n"
     ]
    },
    {
     "data": {
      "text/plain": [
       "slice                9.358974\n",
       "jaccard              0.552173\n",
       "sparse_jaccard       0.618139\n",
       "centroid_jaccard     0.724638\n",
       "binary_f1            0.678848\n",
       "gt_objects          34.492063\n",
       "pred_objects        23.840000\n",
       "dtype: float64"
      ]
     },
     "execution_count": 50,
     "metadata": {},
     "output_type": "execute_result"
    }
   ],
   "source": [
    "df_2d[df_2d != 0].mean()"
   ]
  },
  {
   "cell_type": "code",
   "execution_count": 46,
   "id": "fbde4f1d",
   "metadata": {},
   "outputs": [
    {
     "data": {
      "text/plain": [
       "filename            Untitled-1-1Untitled-1-1Untitled-1-1Untitled-1...\n",
       "slice                                                             730\n",
       "jaccard                                                     32.026041\n",
       "sparse_jaccard                                              35.852081\n",
       "centroid_jaccard                                            42.029012\n",
       "binary_f1                                                    39.37316\n",
       "gt_objects                                                       2173\n",
       "pred_objects                                                     1788\n",
       "dtype: object"
      ]
     },
     "execution_count": 46,
     "metadata": {},
     "output_type": "execute_result"
    }
   ],
   "source": [
    "df_2d.sum()"
   ]
  },
  {
   "cell_type": "code",
   "execution_count": 63,
   "id": "d6c1906b",
   "metadata": {},
   "outputs": [
    {
     "name": "stderr",
     "output_type": "stream",
     "text": [
      "C:\\Users\\ghr283\\AppData\\Local\\Temp\\ipykernel_23052\\405644608.py:1: FutureWarning: The default value of numeric_only in DataFrame.mean is deprecated. In a future version, it will default to False. In addition, specifying 'numeric_only=None' is deprecated. Select only valid columns or specify the value of numeric_only to silence this warning.\n",
      "  df_cellpose[df_cellpose['stitch_threshold'] == 0.6].mean()\n"
     ]
    },
    {
     "data": {
      "text/plain": [
       "stitch_threshold      0.600000\n",
       "jaccard               0.551771\n",
       "sparse_jaccard        0.496348\n",
       "centroid_jaccard      0.518885\n",
       "binary_f1             0.696776\n",
       "gt_objects           67.800000\n",
       "pred_objects        211.800000\n",
       "dtype: float64"
      ]
     },
     "execution_count": 63,
     "metadata": {},
     "output_type": "execute_result"
    }
   ],
   "source": [
    "df_cellpose[df_cellpose['stitch_threshold'] == 0.6].mean()"
   ]
  },
  {
   "cell_type": "code",
   "execution_count": 64,
   "id": "b991d9e5",
   "metadata": {},
   "outputs": [
    {
     "data": {
      "text/plain": [
       "filename            Untitled-1-1Untitled-1-2Untitled-1-3Untitled-1...\n",
       "stitch_threshold                                                  3.0\n",
       "jaccard                                                      2.758855\n",
       "sparse_jaccard                                               2.481738\n",
       "centroid_jaccard                                             2.594423\n",
       "binary_f1                                                    3.483878\n",
       "gt_objects                                                        339\n",
       "pred_objects                                                     1059\n",
       "dtype: object"
      ]
     },
     "execution_count": 64,
     "metadata": {},
     "output_type": "execute_result"
    }
   ],
   "source": [
    "df_cellpose[df_cellpose['stitch_threshold'] == 0.6].sum()"
   ]
  }
 ],
 "metadata": {
  "kernelspec": {
   "display_name": "kapoorlabsenv3",
   "language": "python",
   "name": "kapoorlabsenv3"
  },
  "language_info": {
   "codemirror_mode": {
    "name": "ipython",
    "version": 3
   },
   "file_extension": ".py",
   "mimetype": "text/x-python",
   "name": "python",
   "nbconvert_exporter": "python",
   "pygments_lexer": "ipython3",
   "version": "3.10.13"
  }
 },
 "nbformat": 4,
 "nbformat_minor": 5
}
