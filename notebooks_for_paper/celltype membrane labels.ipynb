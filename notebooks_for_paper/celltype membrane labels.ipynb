{
 "cells": [
  {
   "cell_type": "code",
   "execution_count": 9,
   "metadata": {},
   "outputs": [],
   "source": [
    "import pandas as pd\n",
    "import numpy as np\n",
    "import tifffile as tiff"
   ]
  },
  {
   "cell_type": "code",
   "execution_count": null,
   "metadata": {},
   "outputs": [],
   "source": [
    "gt_df = pd.read_csv('/anual_labeled_cells_sixth_dataset.csv')"
   ]
  },
  {
   "cell_type": "code",
   "execution_count": null,
   "metadata": {},
   "outputs": [],
   "source": [
    "mem_arr = tiff.imread('final_relabelled_membrane_fromcellpose_cropped.tif')"
   ]
  },
  {
   "cell_type": "code",
   "execution_count": 19,
   "metadata": {},
   "outputs": [
    {
     "name": "stdout",
     "output_type": "stream",
     "text": [
      "Segmentation TIFF files created for each cell type label.\n"
     ]
    }
   ],
   "source": [
    "# Round coordinates to int\n",
    "gt_df['X_int'] = gt_df['Centroid.X'].round().astype(int)\n",
    "gt_df['Y_int'] = gt_df['Centroid.Y'].round().astype(int)\n",
    "gt_df['Z_int'] = gt_df['Centroid.Z'].round().astype(int)\n",
    "\n",
    "# Get unique celltype_labels\n",
    "unique_labels = gt_df['cell_type'].unique()\n",
    "\n",
    "for label in unique_labels:\n",
    "    # Get coordinates for the current label\n",
    "    coords = gt_df[gt_df['cell_type'] == label][['X_int', 'Y_int', 'Z_int']]\n",
    "\n",
    "    # Create an empty array for the new segmented labels\n",
    "    new_seg = np.zeros_like(mem_arr)\n",
    "\n",
    "    # Loop through the coordinates and assign the corresponding seg_label values\n",
    "    for _, (x, y, z) in coords.iterrows():\n",
    "        if (0 <= z < new_seg.shape[0] and\n",
    "            0 <= y < new_seg.shape[1] and\n",
    "            0 <= x < new_seg.shape[2]):\n",
    "                label_value = mem_arr[z, y, x]\n",
    "                \n",
    "                # Assign the label value to all voxels in the new_seg at this coordinate\n",
    "                new_seg[mem_arr == label_value] = label_value\n",
    "\n",
    "    # Save the new segmentation array as a TIFF file\n",
    "    tiff.imwrite(f'seg_labels_{label}.tiff', new_seg)\n",
    "\n",
    "print(\"Segmentation TIFF files created for each cell type label.\")\n"
   ]
  }
 ],
 "metadata": {
  "kernelspec": {
   "display_name": "kapoorlabsenv3",
   "language": "python",
   "name": "kapoorlabsenv3"
  },
  "language_info": {
   "codemirror_mode": {
    "name": "ipython",
    "version": 3
   },
   "file_extension": ".py",
   "mimetype": "text/x-python",
   "name": "python",
   "nbconvert_exporter": "python",
   "pygments_lexer": "ipython3",
   "version": "3.10.13"
  }
 },
 "nbformat": 4,
 "nbformat_minor": 2
}
